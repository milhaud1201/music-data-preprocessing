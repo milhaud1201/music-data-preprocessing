{
  "nbformat": 4,
  "nbformat_minor": 0,
  "metadata": {
    "colab": {
      "provenance": [],
      "authorship_tag": "ABX9TyMgf1FvLICOodi3tzAVDNnF"
    },
    "kernelspec": {
      "name": "python3",
      "display_name": "Python 3"
    },
    "language_info": {
      "name": "python"
    },
    "gpuClass": "standard"
  },
  "cells": [
    {
      "cell_type": "code",
      "source": [
        "import glob\n",
        "import os\n",
        "import re\n",
        "import pickle\n",
        "import time\n",
        "\n",
        "import numpy as np\n",
        "import pandas as pd\n",
        "import tensorflow.keras.utils as utils\n",
        "\n",
        "from music21 import converter, instrument, note, chord, stream, midi"
      ],
      "metadata": {
        "id": "hkipH3dsZUjm"
      },
      "execution_count": 1,
      "outputs": []
    },
    {
      "cell_type": "markdown",
      "source": [
        "# Convert from MIDI to tensor\n",
        "* Music is more complex than text (e.g., more than one note might happen at once).  \n",
        "* We use the Music21 library to read MIDI music files.  \n",
        "* The functions below turn a Music21 \"stream\" (of notes) into a numpy array of 8-bit integers.  \n",
        "* All complex rhythms are simplified to 16 note versions. Chords are simplified to the highest note."
      ],
      "metadata": {
        "id": "PRA6_LZf4Bo5"
      }
    },
    {
      "cell_type": "markdown",
      "source": [
        "## Percussion MIDI files\n",
        "#### Groove MIDI Dataset (GMD)\n",
        "The **Groove MIDI Dataset (GMD)** is composed of 13.6 hours of aligned MIDI and (synthesized) audio of human-performed, tempo-aligned expressive drumming. The dataset contains 1,150 MIDI files and over 22,000 measures of drumming.\n",
        "\n",
        "Source: [Groove MIDI Dataset (GMD)](https://magenta.tensorflow.org/datasets/groove)"
      ],
      "metadata": {
        "id": "fBd1g2WZ7tSD"
      }
    },
    {
      "cell_type": "code",
      "source": [
        "!unzip /content/groove-v1.0.0-midionly.zip"
      ],
      "metadata": {
        "colab": {
          "base_uri": "https://localhost:8080/"
        },
        "id": "yKgnoJmj822q",
        "outputId": "0e836623-3ef0-4ddc-d4f6-90a5f869fb2b"
      },
      "execution_count": 2,
      "outputs": [
        {
          "output_type": "stream",
          "name": "stdout",
          "text": [
            "Archive:  /content/groove-v1.0.0-midionly.zip\n",
            "replace groove/drummer8/session2/12_funk_81_beat_4-4.mid? [y]es, [n]o, [A]ll, [N]one, [r]ename: "
          ]
        }
      ]
    },
    {
      "cell_type": "code",
      "source": [
        "directory = \"/content/groove/\"\n",
        "dir_glob_midi = os.path.join(directory, \"**/**/**.mid\")\n",
        "path_data_pickle = './data.pkl'\n",
        "\n",
        "# total number of files\n",
        "print('total number of files')\n",
        "midi_files = glob.glob(dir_glob_midi, recursive=True)\n",
        "len(midi_files)"
      ],
      "metadata": {
        "colab": {
          "base_uri": "https://localhost:8080/"
        },
        "id": "2jTA3cxw3znx",
        "outputId": "b6ce5cd7-fd9a-4794-ac7b-5212913d74fc"
      },
      "execution_count": 3,
      "outputs": [
        {
          "output_type": "stream",
          "name": "stdout",
          "text": [
            "total number of files\n"
          ]
        },
        {
          "output_type": "execute_result",
          "data": {
            "text/plain": [
              "3450"
            ]
          },
          "metadata": {},
          "execution_count": 3
        }
      ]
    },
    {
      "cell_type": "markdown",
      "source": [
        "# 1. MidiFile\n",
        "\n",
        "MIDI 파일은 아래와 같은 표준화된 디지털 음악 표현입니다."
      ],
      "metadata": {
        "id": "lUJvV4mbJWbL"
      }
    },
    {
      "cell_type": "code",
      "source": [
        "mf = midi.MidiFile()\n",
        "mf.open(midi_files[0])\n",
        "mf.read()\n",
        "mf.close()\n",
        "mf"
      ],
      "metadata": {
        "colab": {
          "base_uri": "https://localhost:8080/"
        },
        "id": "3bWU3xAR9NwM",
        "outputId": "33b9e679-2033-4ca9-8206-7b42add909bf"
      },
      "execution_count": 4,
      "outputs": [
        {
          "output_type": "execute_result",
          "data": {
            "text/plain": [
              "<MidiFile 1 tracks\n",
              "  <MidiTrack 0 -- 68 events\n",
              "    <MidiEvent DeltaTime, t=0, track=0, channel=None>\n",
              "    <MidiEvent SEQUENCE_TRACK_NAME, t=None, track=0, channel=None, data=b'Midi Drums'>\n",
              "    <MidiEvent DeltaTime, t=0, track=0, channel=None>\n",
              "    <MidiEvent INSTRUMENT_NAME, t=None, track=0, channel=None, data=b'Midi Drums'>\n",
              "    <MidiEvent DeltaTime, t=0, track=0, channel=None>\n",
              "    <MidiEvent TIME_SIGNATURE, t=None, track=0, channel=None, data=b'\\x04\\x02\\x18\\x08'>\n",
              "    <MidiEvent DeltaTime, t=0, track=0, channel=None>\n",
              "    <MidiEvent KEY_SIGNATURE, t=None, track=0, channel=None, data=b'\\x00\\x00'>\n",
              "    <MidiEvent DeltaTime, t=0, track=0, channel=None>\n",
              "    <MidiEvent SMTPE_OFFSET, t=None, track=0, channel=None, data=b'!\\t8\\x0e\\x17'>\n",
              "    <MidiEvent DeltaTime, t=0, track=0, channel=None>\n",
              "    <MidiEvent SET_TEMPO, t=None, track=0, channel=None, data=b'\\x07\\xa1 '>\n",
              "    <MidiEvent DeltaTime, t=8, track=0, channel=None>\n",
              "    <MidiEvent NOTE_ON, t=None, track=0, channel=10, pitch=38, velocity=127>\n",
              "    <MidiEvent DeltaTime, t=97, track=0, channel=None>\n",
              "    <MidiEvent NOTE_OFF, t=None, track=0, channel=10, pitch=38, velocity=64>\n",
              "    <MidiEvent DeltaTime, t=34, track=0, channel=None>\n",
              "    <MidiEvent NOTE_ON, t=None, track=0, channel=10, pitch=38, velocity=82>\n",
              "    <MidiEvent DeltaTime, t=96, track=0, channel=None>\n",
              "    <MidiEvent NOTE_OFF, t=None, track=0, channel=10, pitch=38, velocity=64>\n",
              "    <MidiEvent DeltaTime, t=123, track=0, channel=None>\n",
              "    <MidiEvent NOTE_ON, t=None, track=0, channel=10, pitch=37, velocity=60>\n",
              "    <MidiEvent DeltaTime, t=94, track=0, channel=None>\n",
              "    <MidiEvent CONTROLLER_CHANGE, t=None, track=0, channel=10, parameter1=4, parameter2=19>\n",
              "    <MidiEvent DeltaTime, t=2, track=0, channel=None>\n",
              "    <MidiEvent NOTE_OFF, t=None, track=0, channel=10, pitch=37, velocity=64>\n",
              "    <MidiEvent DeltaTime, t=38, track=0, channel=None>\n",
              "    <MidiEvent NOTE_ON, t=None, track=0, channel=10, pitch=48, velocity=112>\n",
              "    <MidiEvent DeltaTime, t=37, track=0, channel=None>\n",
              "    <MidiEvent CONTROLLER_CHANGE, t=None, track=0, channel=10, parameter1=4, parameter2=23>\n",
              "    <MidiEvent DeltaTime, t=60, track=0, channel=None>\n",
              "    <MidiEvent NOTE_OFF, t=None, track=0, channel=10, pitch=48, velocity=64>\n",
              "    <MidiEvent DeltaTime, t=152, track=0, channel=None>\n",
              "    <MidiEvent NOTE_ON, t=None, track=0, channel=10, pitch=45, velocity=127>\n",
              "    <MidiEvent DeltaTime, t=96, track=0, channel=None>\n",
              "    <MidiEvent NOTE_OFF, t=None, track=0, channel=10, pitch=45, velocity=64>\n",
              "    <MidiEvent DeltaTime, t=42, track=0, channel=None>\n",
              "    <MidiEvent NOTE_ON, t=None, track=0, channel=10, pitch=45, velocity=119>\n",
              "    <MidiEvent DeltaTime, t=97, track=0, channel=None>\n",
              "    <MidiEvent NOTE_OFF, t=None, track=0, channel=10, pitch=45, velocity=64>\n",
              "    <MidiEvent DeltaTime, t=143, track=0, channel=None>\n",
              "    <MidiEvent NOTE_ON, t=None, track=0, channel=10, pitch=43, velocity=127>\n",
              "    <MidiEvent DeltaTime, t=97, track=0, channel=None>\n",
              "    <MidiEvent NOTE_OFF, t=None, track=0, channel=10, pitch=43, velocity=64>\n",
              "    <MidiEvent DeltaTime, t=29, track=0, channel=None>\n",
              "    <MidiEvent NOTE_ON, t=None, track=0, channel=10, pitch=43, velocity=127>\n",
              "    <MidiEvent DeltaTime, t=22, track=0, channel=None>\n",
              "    <MidiEvent CONTROLLER_CHANGE, t=None, track=0, channel=10, parameter1=4, parameter2=27>\n",
              "    <MidiEvent DeltaTime, t=75, track=0, channel=None>\n",
              "    <MidiEvent NOTE_OFF, t=None, track=0, channel=10, pitch=43, velocity=64>\n",
              "    <MidiEvent DeltaTime, t=31, track=0, channel=None>\n",
              "    <MidiEvent CONTROLLER_CHANGE, t=None, track=0, channel=10, parameter1=4, parameter2=23>\n",
              "    <MidiEvent DeltaTime, t=83, track=0, channel=None>\n",
              "    <MidiEvent NOTE_ON, t=None, track=0, channel=10, pitch=59, velocity=105>\n",
              "    <MidiEvent DeltaTime, t=3, track=0, channel=None>\n",
              "    <MidiEvent NOTE_ON, t=None, track=0, channel=10, pitch=36, velocity=64>\n",
              "    <MidiEvent DeltaTime, t=5, track=0, channel=None>\n",
              "    <MidiEvent NOTE_ON, t=None, track=0, channel=10, pitch=55, velocity=127>\n",
              "    <MidiEvent DeltaTime, t=88, track=0, channel=None>\n",
              "    <MidiEvent NOTE_OFF, t=None, track=0, channel=10, pitch=59, velocity=64>\n",
              "    <MidiEvent DeltaTime, t=4, track=0, channel=None>\n",
              "    <MidiEvent NOTE_OFF, t=None, track=0, channel=10, pitch=36, velocity=64>\n",
              "    <MidiEvent DeltaTime, t=4, track=0, channel=None>\n",
              "    <MidiEvent NOTE_OFF, t=None, track=0, channel=10, pitch=55, velocity=64>\n",
              "    <MidiEvent DeltaTime, t=49, track=0, channel=None>\n",
              "    <MidiEvent CONTROLLER_CHANGE, t=None, track=0, channel=10, parameter1=4, parameter2=19>\n",
              "    <MidiEvent DeltaTime, t=0, track=0, channel=None>\n",
              "    <MidiEvent END_OF_TRACK, t=None, track=0, channel=None, data=b''>\n",
              "  >\n",
              ">"
            ]
          },
          "metadata": {},
          "execution_count": 4
        }
      ]
    },
    {
      "cell_type": "markdown",
      "source": [
        "# 2. Music21 Stream\n",
        "Music21은 MIDI 파일을 조작할 수 있는 강력한 Python 라이브러리입니다."
      ],
      "metadata": {
        "id": "NRhTrEU-JrRl"
      }
    },
    {
      "cell_type": "code",
      "source": [
        "stream = midi.translate.midiFileToStream(mf)\n",
        "stream.show('text')"
      ],
      "metadata": {
        "colab": {
          "base_uri": "https://localhost:8080/"
        },
        "id": "_bgB4fqJJtFK",
        "outputId": "376f4899-56c3-493c-8b5f-b443df13e4f2"
      },
      "execution_count": 5,
      "outputs": [
        {
          "output_type": "stream",
          "name": "stdout",
          "text": [
            "{0.0} <music21.stream.Part 0x7f36ee1857c0>\n",
            "    {0.0} <music21.tempo.MetronomeMark animato Quarter=120.0>\n",
            "    {0.0} <music21.key.Key of C major>\n",
            "    {0.0} <music21.meter.TimeSignature 4/4>\n",
            "    {0.0} <music21.note.Note D>\n",
            "    {0.25} <music21.note.Note D>\n",
            "    {0.5} <music21.note.Rest rest>\n",
            "    {0.75} <music21.note.Note C#>\n",
            "    {1.0} <music21.note.Note C>\n",
            "    {1.25} <music21.note.Rest rest>\n",
            "    {1.5} <music21.note.Note A>\n",
            "    {1.75} <music21.note.Note A>\n",
            "    {2.0} <music21.note.Rest rest>\n",
            "    {2.3333} <music21.note.Note G>\n",
            "    {2.5833} <music21.note.Rest rest>\n",
            "    {2.6667} <music21.note.Note G>\n",
            "    {2.9167} <music21.note.Rest rest>\n",
            "    {3.0} <music21.chord.Chord B3 C2 G3>\n"
          ]
        }
      ]
    },
    {
      "cell_type": "markdown",
      "source": [
        "# 3. Chord Encoding\n",
        "Music21 stream object를 가져와 sparse numpy matrix로 인코딩합니다. matrix는 어떤 note가 어떤 timestep에서 연주되는지를 나타냅니다."
      ],
      "metadata": {
        "id": "oF_vzueVO_jD"
      }
    },
    {
      "cell_type": "code",
      "source": [
        "MELODY_NOTE_OFF = 128 # (stop playing all previous notes)\n",
        "MELODY_NO_EVENT = 129 # (no change from previous event)\n",
        "\n",
        "def streamToNoteArray(stream):\n",
        "    \"\"\"\n",
        "    Convert a Music21 sequence to a numpy array of int8s:\n",
        "        0-127 - note on at specified pitch\n",
        "        128   - note off\n",
        "        129   - no event\n",
        "    \"\"\"\n",
        "    # Part one, extract from stream\n",
        "    total_length = int(np.round(stream.flat.highestTime / 0.25)) # in semiquavers\n",
        "    stream_list = []\n",
        "    for element in stream.flat:\n",
        "        if isinstance(element, note.Note):\n",
        "            stream_list.append([np.round(element.offset / 0.25), np.round(element.quarterLength / 0.25), element.pitch.midi])\n",
        "        elif isinstance(element, chord.Chord):\n",
        "            stream_list.append([np.round(element.offset / 0.25), np.round(element.quarterLength / 0.25), element.sortAscending().pitches[-1].midi])\n",
        "    np_stream_list = np.array(stream_list, dtype=int)\n",
        "    df = pd.DataFrame({'pos': np_stream_list.T[0], 'dur': np_stream_list.T[1], 'pitch': np_stream_list.T[2]})\n",
        "    df = df.sort_values(['pos','pitch'], ascending=[True, False]) # sort the dataframe properly\n",
        "    df = df.drop_duplicates(subset=['pos']) # drop duplicate values\n",
        "    # part 2, convert into a sequence of note events\n",
        "    output = np.zeros(total_length+1, dtype=np.int16) + np.int16(MELODY_NO_EVENT)  # set array full of no events by default.\n",
        "    # Fill in the output list\n",
        "    for i in range(total_length):\n",
        "        if not df[df.pos==i].empty:\n",
        "            n = df[df.pos==i].iloc[0] # pick the highest pitch at each semiquaver\n",
        "            output[i] = n.pitch # set note on\n",
        "            output[i+n.dur] = MELODY_NOTE_OFF\n",
        "    return output"
      ],
      "metadata": {
        "id": "cDm0B9c6T2VZ"
      },
      "execution_count": 6,
      "outputs": []
    },
    {
      "cell_type": "code",
      "source": [
        "arr = streamToNoteArray(stream); arr"
      ],
      "metadata": {
        "colab": {
          "base_uri": "https://localhost:8080/"
        },
        "id": "u25lt0vOT5s2",
        "outputId": "38b93202-15b1-4acf-d9b6-b409d7860045"
      },
      "execution_count": 7,
      "outputs": [
        {
          "output_type": "execute_result",
          "data": {
            "text/plain": [
              "array([ 38,  38, 128,  37,  48, 128,  45,  45, 128,  43, 128,  43,  59,\n",
              "       128], dtype=int16)"
            ]
          },
          "metadata": {},
          "execution_count": 7
        }
      ]
    },
    {
      "cell_type": "code",
      "source": [
        "arr.shape"
      ],
      "metadata": {
        "colab": {
          "base_uri": "https://localhost:8080/"
        },
        "id": "-H28aNmLUoAK",
        "outputId": "5631cb37-cec1-47dc-9ca1-e2d3d32e9105"
      },
      "execution_count": 8,
      "outputs": [
        {
          "output_type": "execute_result",
          "data": {
            "text/plain": [
              "(14,)"
            ]
          },
          "metadata": {},
          "execution_count": 8
        }
      ]
    },
    {
      "cell_type": "code",
      "source": [
        "# !pip install musicautobot\n",
        "from musicautobot.numpy_encode import *\n",
        "\n",
        "chordarr = stream2chordarr(stream); chordarr.shape"
      ],
      "metadata": {
        "colab": {
          "base_uri": "https://localhost:8080/"
        },
        "id": "Ef-nCQE9KtrE",
        "outputId": "35f9d080-15c8-4694-d2f0-09be99285796"
      },
      "execution_count": 16,
      "outputs": [
        {
          "output_type": "execute_result",
          "data": {
            "text/plain": [
              "(14, 1, 128)"
            ]
          },
          "metadata": {},
          "execution_count": 16
        }
      ]
    },
    {
      "cell_type": "markdown",
      "source": [
        "#### Chord Encoding Dimensions - (timestep x track x notes)\n",
        "14 = timesteps in song  \n",
        "1 = tracks/parts (track 1 = melody, track 2 = chords)  \n",
        "128 = midi pitch range - [reference](https://www.inspiredacoustics.com/en/MIDI_note_numbers_and_center_frequencies)"
      ],
      "metadata": {
        "id": "Zz4yRtaCPeCs"
      }
    },
    {
      "cell_type": "markdown",
      "source": [
        "## Representation"
      ],
      "metadata": {
        "id": "IO8bylnlP95c"
      }
    },
    {
      "cell_type": "code",
      "source": [
        "chordarr"
      ],
      "metadata": {
        "colab": {
          "base_uri": "https://localhost:8080/"
        },
        "id": "6loUf488K1sO",
        "outputId": "0c4974ef-9240-4dcd-c77c-4fed7f1cbd63"
      },
      "execution_count": 10,
      "outputs": [
        {
          "output_type": "execute_result",
          "data": {
            "text/plain": [
              "array([[[0., 0., 0., ..., 0., 0., 0.]],\n",
              "\n",
              "       [[0., 0., 0., ..., 0., 0., 0.]],\n",
              "\n",
              "       [[0., 0., 0., ..., 0., 0., 0.]],\n",
              "\n",
              "       ...,\n",
              "\n",
              "       [[0., 0., 0., ..., 0., 0., 0.]],\n",
              "\n",
              "       [[0., 0., 0., ..., 0., 0., 0.]],\n",
              "\n",
              "       [[0., 0., 0., ..., 0., 0., 0.]]])"
            ]
          },
          "metadata": {},
          "execution_count": 10
        }
      ]
    },
    {
      "cell_type": "code",
      "source": [
        "# First timestep\n",
        "ts1 = chordarr[0].nonzero(); ts1"
      ],
      "metadata": {
        "colab": {
          "base_uri": "https://localhost:8080/"
        },
        "id": "DLn0b5XsLF0m",
        "outputId": "7ec932e8-84c4-4af2-ef6d-f554dedd8282"
      },
      "execution_count": 11,
      "outputs": [
        {
          "output_type": "execute_result",
          "data": {
            "text/plain": [
              "(array([0]), array([38]))"
            ]
          },
          "metadata": {},
          "execution_count": 11
        }
      ]
    },
    {
      "cell_type": "markdown",
      "source": [
        "# 4. Note Encoding\n",
        "Chord encoding을 dense matrix로 변환합니다.  \n",
        "Sparse matric(timestep x track x notes)는 너무 많은 공간을 차지하기 때문에 0과 1대신 음이 연주되는 시기와 길이만 추적합니다."
      ],
      "metadata": {
        "id": "2EQj2pXwQR8u"
      }
    },
    {
      "cell_type": "code",
      "source": [
        "npenc = chordarr2npenc(chordarr); npenc.shape"
      ],
      "metadata": {
        "colab": {
          "base_uri": "https://localhost:8080/"
        },
        "id": "HCC-pG-BLkIS",
        "outputId": "b1c9e2f4-d4a8-426f-cb22-2dd67c627279"
      },
      "execution_count": 12,
      "outputs": [
        {
          "output_type": "execute_result",
          "data": {
            "text/plain": [
              "(19, 2)"
            ]
          },
          "metadata": {},
          "execution_count": 12
        }
      ]
    },
    {
      "cell_type": "markdown",
      "source": [
        "#### Note Encoding Dimensions: (timesteps, (pitch x duration))\n",
        "18 = timesteps  \n",
        "2 = note representation (pitch x duration)  \n",
        "\n",
        "* note pitch range (1-128)\n",
        "    * Separator Index = -1\n",
        "* note duration range (1 - 256)\n",
        "    * Quarter Note = 4"
      ],
      "metadata": {
        "id": "p86YFggwRU8v"
      }
    },
    {
      "cell_type": "markdown",
      "source": [
        "#### Matrix size 비교:"
      ],
      "metadata": {
        "id": "354kZNUTSU-l"
      }
    },
    {
      "cell_type": "code",
      "source": [
        "f'Chord encoding size: {np.prod(chordarr.shape)}', f'Note encoding size: {np.prod(npenc.shape)}'"
      ],
      "metadata": {
        "colab": {
          "base_uri": "https://localhost:8080/"
        },
        "id": "VoYT1cq5LliK",
        "outputId": "a661a901-b6e6-4d46-f3ca-87e0fdbf29b8"
      },
      "execution_count": 13,
      "outputs": [
        {
          "output_type": "execute_result",
          "data": {
            "text/plain": [
              "('Chord encoding size: 1792', 'Note encoding size: 38')"
            ]
          },
          "metadata": {},
          "execution_count": 13
        }
      ]
    },
    {
      "cell_type": "markdown",
      "source": [
        "## Representation\n",
        "\n",
        "Sigle note:"
      ],
      "metadata": {
        "id": "JgwgxlwjSgtm"
      }
    },
    {
      "cell_type": "code",
      "source": [
        "n = npenc[:1]; n"
      ],
      "metadata": {
        "colab": {
          "base_uri": "https://localhost:8080/"
        },
        "id": "jOv_Qf9ALq2K",
        "outputId": "01036609-ba4f-49e0-a917-2b7a3f6b191f"
      },
      "execution_count": 14,
      "outputs": [
        {
          "output_type": "execute_result",
          "data": {
            "text/plain": [
              "array([[38,  1]])"
            ]
          },
          "metadata": {},
          "execution_count": 14
        }
      ]
    },
    {
      "cell_type": "markdown",
      "source": [
        "38 = D2 (note pitch)  \n",
        "1 = Eighth Note (1 1/16th notes)"
      ],
      "metadata": {
        "id": "PQ15IBHlStOR"
      }
    },
    {
      "cell_type": "markdown",
      "source": [
        "Whole note:"
      ],
      "metadata": {
        "id": "2xhgoPIFTTGx"
      }
    },
    {
      "cell_type": "code",
      "source": [
        "npenc"
      ],
      "metadata": {
        "colab": {
          "base_uri": "https://localhost:8080/"
        },
        "id": "MF7sXXIiLtsJ",
        "outputId": "8263d3db-4309-48ec-a25a-aae387c2c987"
      },
      "execution_count": 15,
      "outputs": [
        {
          "output_type": "execute_result",
          "data": {
            "text/plain": [
              "array([[38,  1],\n",
              "       [-1,  1],\n",
              "       [38,  1],\n",
              "       [-1,  2],\n",
              "       [37,  1],\n",
              "       [-1,  1],\n",
              "       [48,  1],\n",
              "       [-1,  2],\n",
              "       [45,  1],\n",
              "       [-1,  1],\n",
              "       [45,  1],\n",
              "       [-1,  2],\n",
              "       [43,  1],\n",
              "       [-1,  2],\n",
              "       [43,  1],\n",
              "       [-1,  1],\n",
              "       [59,  1],\n",
              "       [55,  1],\n",
              "       [36,  1]])"
            ]
          },
          "metadata": {},
          "execution_count": 15
        }
      ]
    },
    {
      "cell_type": "markdown",
      "source": [
        "# 5. Tensor Encoding"
      ],
      "metadata": {
        "id": "1VfpEzxvTZQ1"
      }
    },
    {
      "cell_type": "code",
      "source": [],
      "metadata": {
        "id": "21NMsQFJTgTX"
      },
      "execution_count": 15,
      "outputs": []
    }
  ]
}