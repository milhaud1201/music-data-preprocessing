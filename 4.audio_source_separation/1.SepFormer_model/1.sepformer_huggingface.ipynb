{
 "cells": [
  {
   "attachments": {},
   "cell_type": "markdown",
   "metadata": {},
   "source": [
    "# SepFormer trained on WSJ0-2Mix\n",
    "This repository provides all the necessary tools to perform audio source separation with a SepFormer model, implemented with SpeechBrain, and pretrained on WSJ0-2Mix dataset. For a better experience we encourage you to learn more about SpeechBrain. The model performance is 22.4 dB on the test set of WSJ0-2Mix dataset.\n",
    "https://speechbrain.github.io/"
   ]
  },
  {
   "attachments": {},
   "cell_type": "markdown",
   "metadata": {},
   "source": [
    "## Install SpeechBrain\n",
    "First of all, please install SpeechBrain with the following command:"
   ]
  },
  {
   "cell_type": "code",
   "execution_count": 1,
   "metadata": {},
   "outputs": [
    {
     "name": "stdout",
     "output_type": "stream",
     "text": [
      "Collecting speechbrain\n",
      "  Downloading speechbrain-0.5.15-py3-none-any.whl (553 kB)\n",
      "\u001b[2K     \u001b[90m━━━━━━━━━━━━━━━━━━━━━━━━━━━━━━━━━━━━━━━\u001b[0m \u001b[32m553.8/553.8 kB\u001b[0m \u001b[31m9.3 MB/s\u001b[0m eta \u001b[36m0:00:00\u001b[0ma \u001b[36m0:00:01\u001b[0m\n",
      "\u001b[?25hRequirement already satisfied: tqdm in /opt/homebrew/anaconda3/lib/python3.10/site-packages (from speechbrain) (4.64.1)\n",
      "Requirement already satisfied: scipy in /opt/homebrew/anaconda3/lib/python3.10/site-packages (from speechbrain) (1.10.0)\n",
      "Collecting sentencepiece\n",
      "  Downloading sentencepiece-0.1.99-cp310-cp310-macosx_11_0_arm64.whl (1.2 MB)\n",
      "\u001b[2K     \u001b[90m━━━━━━━━━━━━━━━━━━━━━━━━━━━━━━━━━━━━━━━━\u001b[0m \u001b[32m1.2/1.2 MB\u001b[0m \u001b[31m9.7 MB/s\u001b[0m eta \u001b[36m0:00:00\u001b[0mta \u001b[36m0:00:01\u001b[0m\n",
      "\u001b[?25hRequirement already satisfied: numpy in /opt/homebrew/anaconda3/lib/python3.10/site-packages (from speechbrain) (1.23.5)\n",
      "Requirement already satisfied: huggingface-hub in /opt/homebrew/anaconda3/lib/python3.10/site-packages (from speechbrain) (0.10.1)\n",
      "Collecting hyperpyyaml\n",
      "  Downloading HyperPyYAML-1.2.1-py3-none-any.whl (16 kB)\n",
      "Requirement already satisfied: joblib in /opt/homebrew/anaconda3/lib/python3.10/site-packages (from speechbrain) (1.1.1)\n",
      "Requirement already satisfied: packaging in /opt/homebrew/anaconda3/lib/python3.10/site-packages (from speechbrain) (22.0)\n",
      "Collecting torchaudio\n",
      "  Downloading torchaudio-2.0.2-cp310-cp310-macosx_11_0_arm64.whl (3.6 MB)\n",
      "\u001b[2K     \u001b[90m━━━━━━━━━━━━━━━━━━━━━━━━━━━━━━━━━━━━━━━━\u001b[0m \u001b[32m3.6/3.6 MB\u001b[0m \u001b[31m9.5 MB/s\u001b[0m eta \u001b[36m0:00:00\u001b[0m:00:01\u001b[0m00:01\u001b[0m\n",
      "\u001b[?25hRequirement already satisfied: torch>=1.9 in /opt/homebrew/anaconda3/lib/python3.10/site-packages (from speechbrain) (1.12.1)\n",
      "Requirement already satisfied: typing_extensions in /opt/homebrew/anaconda3/lib/python3.10/site-packages (from torch>=1.9->speechbrain) (4.4.0)\n",
      "Requirement already satisfied: pyyaml>=5.1 in /opt/homebrew/anaconda3/lib/python3.10/site-packages (from huggingface-hub->speechbrain) (6.0)\n",
      "Requirement already satisfied: filelock in /opt/homebrew/anaconda3/lib/python3.10/site-packages (from huggingface-hub->speechbrain) (3.9.0)\n",
      "Requirement already satisfied: requests in /opt/homebrew/anaconda3/lib/python3.10/site-packages (from huggingface-hub->speechbrain) (2.28.1)\n",
      "Requirement already satisfied: ruamel.yaml<=0.17.28,>=0.17.8 in /opt/homebrew/anaconda3/lib/python3.10/site-packages (from hyperpyyaml->speechbrain) (0.17.21)\n",
      "Collecting torch>=1.9\n",
      "  Downloading torch-2.0.1-cp310-none-macosx_11_0_arm64.whl (55.8 MB)\n",
      "\u001b[2K     \u001b[90m━━━━━━━━━━━━━━━━━━━━━━━━━━━━━━━━━━━━━━━━\u001b[0m \u001b[32m55.8/55.8 MB\u001b[0m \u001b[31m9.7 MB/s\u001b[0m eta \u001b[36m0:00:00\u001b[0m:00:01\u001b[0m00:01\u001b[0m\n",
      "\u001b[?25hRequirement already satisfied: sympy in /opt/homebrew/anaconda3/lib/python3.10/site-packages (from torch>=1.9->speechbrain) (1.11.1)\n",
      "Requirement already satisfied: jinja2 in /opt/homebrew/anaconda3/lib/python3.10/site-packages (from torch>=1.9->speechbrain) (3.1.2)\n",
      "Requirement already satisfied: networkx in /opt/homebrew/anaconda3/lib/python3.10/site-packages (from torch>=1.9->speechbrain) (2.8.4)\n",
      "Requirement already satisfied: ruamel.yaml.clib>=0.2.6 in /opt/homebrew/anaconda3/lib/python3.10/site-packages (from ruamel.yaml<=0.17.28,>=0.17.8->hyperpyyaml->speechbrain) (0.2.6)\n",
      "Requirement already satisfied: MarkupSafe>=2.0 in /opt/homebrew/anaconda3/lib/python3.10/site-packages (from jinja2->torch>=1.9->speechbrain) (2.1.1)\n",
      "Requirement already satisfied: certifi>=2017.4.17 in /opt/homebrew/anaconda3/lib/python3.10/site-packages (from requests->huggingface-hub->speechbrain) (2023.5.7)\n",
      "Requirement already satisfied: urllib3<1.27,>=1.21.1 in /opt/homebrew/anaconda3/lib/python3.10/site-packages (from requests->huggingface-hub->speechbrain) (1.26.14)\n",
      "Requirement already satisfied: charset-normalizer<3,>=2 in /opt/homebrew/anaconda3/lib/python3.10/site-packages (from requests->huggingface-hub->speechbrain) (2.0.4)\n",
      "Requirement already satisfied: idna<4,>=2.5 in /opt/homebrew/anaconda3/lib/python3.10/site-packages (from requests->huggingface-hub->speechbrain) (3.4)\n",
      "Requirement already satisfied: mpmath>=0.19 in /opt/homebrew/anaconda3/lib/python3.10/site-packages/mpmath-1.2.1-py3.10.egg (from sympy->torch>=1.9->speechbrain) (1.2.1)\n",
      "Installing collected packages: sentencepiece, torch, hyperpyyaml, torchaudio, speechbrain\n",
      "  Attempting uninstall: torch\n",
      "    Found existing installation: torch 1.12.1\n",
      "    Uninstalling torch-1.12.1:\n",
      "      Successfully uninstalled torch-1.12.1\n",
      "Successfully installed hyperpyyaml-1.2.1 sentencepiece-0.1.99 speechbrain-0.5.15 torch-2.0.1 torchaudio-2.0.2\n"
     ]
    }
   ],
   "source": [
    "!pip install speechbrain"
   ]
  },
  {
   "attachments": {},
   "cell_type": "markdown",
   "metadata": {},
   "source": [
    "## Perform source separation on your own audio file"
   ]
  },
  {
   "cell_type": "code",
   "execution_count": 5,
   "metadata": {},
   "outputs": [
    {
     "name": "stdout",
     "output_type": "stream",
     "text": [
      "Resampling the audio from 48000 Hz to 8000 Hz\n"
     ]
    }
   ],
   "source": [
    "from speechbrain.pretrained import SepformerSeparation as separator\n",
    "import torchaudio\n",
    "\n",
    "model = separator.from_hparams(source=\"speechbrain/sepformer-wsj02mix\", savedir='pretrained_models/sepformer-wsj02mix')\n",
    "\n",
    "# for custom file, change path\n",
    "est_sources = model.separate_file(path='/Users/milhaud/Desktop/refer_Audio_AI/4.audio_source_separation/1.SepFormer_model/source1sunflower.wav') \n",
    "\n",
    "torchaudio.save(\"source1hat.wav\", est_sources[:, :, 0].detach().cpu(), 8000)\n",
    "torchaudio.save(\"source2hat.wav\", est_sources[:, :, 1].detach().cpu(), 8000)"
   ]
  },
  {
   "cell_type": "code",
   "execution_count": null,
   "metadata": {},
   "outputs": [],
   "source": []
  }
 ],
 "metadata": {
  "kernelspec": {
   "display_name": "base",
   "language": "python",
   "name": "python3"
  },
  "language_info": {
   "codemirror_mode": {
    "name": "ipython",
    "version": 3
   },
   "file_extension": ".py",
   "mimetype": "text/x-python",
   "name": "python",
   "nbconvert_exporter": "python",
   "pygments_lexer": "ipython3",
   "version": "3.10.9"
  },
  "orig_nbformat": 4
 },
 "nbformat": 4,
 "nbformat_minor": 2
}
